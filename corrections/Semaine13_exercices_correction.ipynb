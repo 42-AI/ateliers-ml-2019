{
 "cells": [
  {
   "cell_type": "markdown",
   "metadata": {},
   "source": [
    "# Semaine 13 - Reinforcement Learning, Q-learning"
   ]
  },
  {
   "cell_type": "markdown",
   "metadata": {},
   "source": [
    "Dans l'exercice de cette semaine, nous utiliserons le module *Gym* d'OpenAI. Gym implémente divers environnements compatibles avec des problèmes de RL pour permettre à la communauté scientifique de s'y entraîner."
   ]
  },
  {
   "cell_type": "markdown",
   "metadata": {},
   "source": [
    "Voici le lien vers la documentation de *Gym*:   https://gym.openai.com/docs/"
   ]
  },
  {
   "cell_type": "code",
   "execution_count": 1,
   "metadata": {},
   "outputs": [],
   "source": [
    "import gym\n",
    "from gym import wrappers\n",
    "import numpy as np"
   ]
  },
  {
   "cell_type": "markdown",
   "metadata": {},
   "source": [
    "# L'environnement"
   ]
  },
  {
   "cell_type": "markdown",
   "metadata": {},
   "source": [
    "Dans MountainCar, il faire à apprendre au pilote de la voiture comment monter au sommet de la montagne. Mais le moteur n'a pas assez de puissance pour y arriver d'un coup."
   ]
  },
  {
   "cell_type": "code",
   "execution_count": 2,
   "metadata": {},
   "outputs": [
    {
     "name": "stdout",
     "output_type": "stream",
     "text": [
      "\u001b[33mWARN: gym.spaces.Box autodetected dtype as <class 'numpy.float32'>. Please provide explicit dtype.\u001b[0m\n"
     ]
    }
   ],
   "source": [
    "env = gym.make('MountainCar-v0')\n",
    "env.reset()\n",
    "for timestep in range(200):\n",
    "    env.render()\n",
    "    env.step(2)\n",
    "env.close()"
   ]
  },
  {
   "cell_type": "markdown",
   "metadata": {},
   "source": [
    "Le pilote dispose de 3 actions possibles:"
   ]
  },
  {
   "cell_type": "code",
   "execution_count": 3,
   "metadata": {},
   "outputs": [
    {
     "data": {
      "text/plain": [
       "3"
      ]
     },
     "execution_count": 3,
     "metadata": {},
     "output_type": "execute_result"
    }
   ],
   "source": [
    "env.action_space.n"
   ]
  },
  {
   "cell_type": "markdown",
   "metadata": {},
   "source": [
    "Testez différentes valeurs pour la variable \"action\" afin de découvrir comment est encodé le choix de l'action pour le passer à l'environnement au travers de la méthode step()"
   ]
  },
  {
   "cell_type": "code",
   "execution_count": 4,
   "metadata": {},
   "outputs": [
    {
     "name": "stdout",
     "output_type": "stream",
     "text": [
      "\u001b[33mWARN: gym.spaces.Box autodetected dtype as <class 'numpy.float32'>. Please provide explicit dtype.\u001b[0m\n"
     ]
    }
   ],
   "source": [
    "action = 0\n",
    "\n",
    "env = gym.make('MountainCar-v0')\n",
    "env.seed(42)\n",
    "env.reset()\n",
    "for timestep in range(200):\n",
    "    env.render()\n",
    "    env.step(action)\n",
    "env.close()"
   ]
  },
  {
   "cell_type": "markdown",
   "metadata": {},
   "source": [
    "# Les observations et les états"
   ]
  },
  {
   "cell_type": "markdown",
   "metadata": {},
   "source": [
    "L'environnement fournit à l'agent deux valeurs continues comme observation:"
   ]
  },
  {
   "cell_type": "code",
   "execution_count": 5,
   "metadata": {},
   "outputs": [
    {
     "data": {
      "text/plain": [
       "Box(2,)"
      ]
     },
     "execution_count": 5,
     "metadata": {},
     "output_type": "execute_result"
    }
   ],
   "source": [
    "env.observation_space"
   ]
  },
  {
   "cell_type": "markdown",
   "metadata": {},
   "source": [
    "Une des valeurs correspond à la position, l'autre à la vitesse"
   ]
  },
  {
   "cell_type": "markdown",
   "metadata": {},
   "source": [
    "Les observations sont renvoyées par deux différentes méthodes de l'environnement:"
   ]
  },
  {
   "cell_type": "code",
   "execution_count": 6,
   "metadata": {},
   "outputs": [
    {
     "name": "stdout",
     "output_type": "stream",
     "text": [
      "[-0.50313229  0.        ]\n",
      "[-0.50428569 -0.0011534 ]\n"
     ]
    }
   ],
   "source": [
    "observation = env.reset()\n",
    "print(observation)\n",
    "observation, reward, done, info = env.step(action)\n",
    "print(observation)"
   ]
  },
  {
   "cell_type": "markdown",
   "metadata": {},
   "source": [
    "Pour faire du q-learning, il faut un nombre fini d'état, donc nos valeurs continues doivent devenir discrètes. Écrivez une fonction qui divise l'échelle de variation de chaque valeur en 20 segments égaux."
   ]
  },
  {
   "cell_type": "code",
   "execution_count": 7,
   "metadata": {},
   "outputs": [],
   "source": [
    "n_segments = 20\n",
    "\n",
    "def obs_to_state(obs):\n",
    "    min_position, min_speed = env.observation_space.low\n",
    "    max_position, max_speed = env.observation_space.high\n",
    "    position, speed = obs\n",
    "    \n",
    "    position_delta = (max_position - min_position) / n_segments\n",
    "    speed_delta = (max_speed - min_speed) / n_segments\n",
    "    position_segm = int((position-min_position)/position_delta)\n",
    "    speed_segm = int((speed-min_speed)/speed_delta)\n",
    "    \n",
    "    state = position_segm, speed_segm\n",
    "    return state"
   ]
  },
  {
   "cell_type": "markdown",
   "metadata": {},
   "source": [
    "Testez votre fonction: Faites-lui transformer l'observtion"
   ]
  },
  {
   "cell_type": "code",
   "execution_count": 8,
   "metadata": {},
   "outputs": [
    {
     "data": {
      "text/plain": [
       "(7, 9)"
      ]
     },
     "execution_count": 8,
     "metadata": {},
     "output_type": "execute_result"
    }
   ],
   "source": [
    "obs_to_state(observation)"
   ]
  },
  {
   "cell_type": "markdown",
   "metadata": {},
   "source": [
    "# L'agent "
   ]
  },
  {
   "cell_type": "markdown",
   "metadata": {},
   "source": [
    "Par souci de simplicité, nous n'allons pas implémenter l'agent comme objet, mais néanmoins nous implémenterons sa Policy!"
   ]
  },
  {
   "cell_type": "markdown",
   "metadata": {},
   "source": [
    "### Q-Table"
   ]
  },
  {
   "cell_type": "markdown",
   "metadata": {},
   "source": [
    "Créez une table de q-valeurs qui peut contenir une q-valeur distincte pour chaque action possible, dans tous les états imaginables!\n",
    "Attention, si l'état est représenté en deux dimensions, il faut ajouter une troisième dimension correspondant au nombre d'actions possibles."
   ]
  },
  {
   "cell_type": "code",
   "execution_count": 9,
   "metadata": {},
   "outputs": [],
   "source": [
    "np.random.seed(42)\n",
    "\n",
    "dimensions = (n_segments, n_segments, env.action_space.n)\n",
    "q_table = np.random.uniform(low=-1, high=1, size=dimensions)"
   ]
  },
  {
   "cell_type": "markdown",
   "metadata": {},
   "source": [
    "### Policy "
   ]
  },
  {
   "cell_type": "markdown",
   "metadata": {},
   "source": [
    "Implémentez la Greedy policy, qui utilise la q_table pour décider de la meilleure action à choisir"
   ]
  },
  {
   "cell_type": "code",
   "execution_count": 10,
   "metadata": {},
   "outputs": [],
   "source": [
    "def greedy_policy(state):\n",
    "    action = np.argmax(q_table[state])\n",
    "    return action"
   ]
  },
  {
   "cell_type": "markdown",
   "metadata": {},
   "source": [
    "Implémentez maintenant la Epsilon-greedy policy, qui ajoute une probabilité *epsilon* que l'action soit choisie aléatoirement  \n",
    "_**Indice:**_ np.random.choice(n) choisira aléatoirement un nombre de 0 à n exclus"
   ]
  },
  {
   "cell_type": "code",
   "execution_count": 11,
   "metadata": {},
   "outputs": [],
   "source": [
    "def epsilon_greedy_policy(state, epsilon):\n",
    "    if np.random.rand(1) < epsilon:\n",
    "        action = np.random.choice(env.action_space.n)\n",
    "    else:\n",
    "        action = greedy_policy(state)\n",
    "    return action"
   ]
  },
  {
   "cell_type": "markdown",
   "metadata": {},
   "source": [
    "# L'entraînement"
   ]
  },
  {
   "cell_type": "code",
   "execution_count": 12,
   "metadata": {},
   "outputs": [
    {
     "name": "stdout",
     "output_type": "stream",
     "text": [
      "Iteration #100 -- Average reward = -200.0\n",
      "Iteration #200 -- Average reward = -200.0\n",
      "Iteration #300 -- Average reward = -200.0\n",
      "Iteration #400 -- Average reward = -200.0\n",
      "Iteration #500 -- Average reward = -200.0\n",
      "Iteration #600 -- Average reward = -200.0\n",
      "Iteration #700 -- Average reward = -200.0\n",
      "Iteration #800 -- Average reward = -200.0\n",
      "Iteration #900 -- Average reward = -200.0\n",
      "Iteration #1000 -- Average reward = -200.0\n",
      "Iteration #1100 -- Average reward = -200.0\n",
      "Iteration #1200 -- Average reward = -200.0\n",
      "Iteration #1300 -- Average reward = -200.0\n",
      "Iteration #1400 -- Average reward = -200.0\n",
      "Iteration #1500 -- Average reward = -200.0\n",
      "Iteration #1600 -- Average reward = -200.0\n",
      "Iteration #1700 -- Average reward = -200.0\n",
      "Iteration #1800 -- Average reward = -200.0\n",
      "Iteration #1900 -- Average reward = -200.0\n",
      "Iteration #2000 -- Average reward = -200.0\n",
      "Iteration #2100 -- Average reward = -200.0\n",
      "Iteration #2200 -- Average reward = -200.0\n",
      "Iteration #2300 -- Average reward = -200.0\n",
      "Iteration #2400 -- Average reward = -200.0\n",
      "Iteration #2500 -- Average reward = -200.0\n",
      "Iteration #2600 -- Average reward = -200.0\n",
      "Iteration #2700 -- Average reward = -200.0\n",
      "Iteration #2800 -- Average reward = -200.0\n",
      "Iteration #2900 -- Average reward = -200.0\n",
      "Iteration #3000 -- Average reward = -200.0\n",
      "Iteration #3100 -- Average reward = -200.0\n",
      "Iteration #3200 -- Average reward = -200.0\n",
      "Iteration #3300 -- Average reward = -200.0\n",
      "Iteration #3400 -- Average reward = -200.0\n",
      "Iteration #3500 -- Average reward = -200.0\n",
      "Iteration #3600 -- Average reward = -200.0\n",
      "Iteration #3700 -- Average reward = -200.0\n",
      "Iteration #3800 -- Average reward = -200.0\n",
      "Iteration #3900 -- Average reward = -200.0\n",
      "Iteration #4000 -- Average reward = -200.0\n",
      "Iteration #4100 -- Average reward = -199.67\n",
      "Iteration #4200 -- Average reward = -199.86\n",
      "Iteration #4300 -- Average reward = -197.98\n",
      "Iteration #4400 -- Average reward = -199.33\n",
      "Iteration #4500 -- Average reward = -199.86\n",
      "Iteration #4600 -- Average reward = -200.0\n",
      "Iteration #4700 -- Average reward = -200.0\n",
      "Iteration #4800 -- Average reward = -200.0\n",
      "Iteration #4900 -- Average reward = -200.0\n",
      "Iteration #5000 -- Average reward = -199.94\n"
     ]
    }
   ],
   "source": [
    "import pdb\n",
    "import numpy as np\n",
    "np.random.seed(42)\n",
    "\n",
    "# Parameters\n",
    "episodes_max = 5000\n",
    "lr = 0.2\n",
    "gamma = 1\n",
    "\n",
    "# Epsilon will diminish over the episodes to increase exploitation\n",
    "start_epsilon = 0.8\n",
    "final_epsilon = 0\n",
    "epsilon_reduction = (start_epsilon - final_epsilon) / episodes_max\n",
    "epsilon = start_epsilon\n",
    "\n",
    "reward_list = []\n",
    "avg_reward_list = []\n",
    "\n",
    "# Train for 'episodes_max' episodes\n",
    "for episode in range(episodes_max):\n",
    "    \n",
    "    # Initialize parameters of the episode\n",
    "    total_reward = 0\n",
    "    done = False\n",
    "    obs = env.reset()\n",
    "    state1 =  obs_to_state(obs)\n",
    "    \"\"\"N'oubliez pas de transformer ce que retourne l'environment en valeurs discrètes!\"\"\"\n",
    "    \n",
    "    # Each episode runs for a maximum of 200 timesteps, at whith point the Environment returns done = True\n",
    "    while done is False:\n",
    "        \n",
    "        # The agent chooses an action\n",
    "        action = epsilon_greedy_policy(state1, epsilon)\n",
    "        \n",
    "        # The action is given to the environment, which returns a new state, a reward, and some other info\n",
    "        # (see documentation https://gym.openai.com/docs/)\n",
    "        obs, reward, done, _ = env.step(action)\n",
    "        \n",
    "        state2 = obs_to_state(obs)\n",
    "        \n",
    "        total_reward += reward\n",
    "        \n",
    "        # Update q_table\n",
    "        if done:\n",
    "            \"\"\"Quelle est la q-valeur de la toute dernière action???\"\"\"\n",
    "            q_table[state1][action] = reward\n",
    "        else:\n",
    "            \"\"\"Hmmmm... On dirait qu'on va s'amuser avec l'équation de Bellman!!\"\"\"\n",
    "            q_table[state1][action] = (1-lr)*q_table[state1][action] + lr*(reward + gamma * np.max(q_table[state2]))\n",
    "        \n",
    "        # The new state becomes state1 of the next loop\n",
    "        state1 = state2\n",
    "    \n",
    "    # Epsilon decay\n",
    "    epsilon -= epsilon_reduction\n",
    "    \n",
    "    # Display rewards\n",
    "    reward_list.append(total_reward)\n",
    "    if (episode + 1) % 100 == 0:\n",
    "        avg_reward = np.mean(reward_list)\n",
    "        avg_reward_list.append(avg_reward)\n",
    "        reward_list = []\n",
    "        print('Iteration #{} -- Average reward = {}'.format(episode+1, avg_reward))"
   ]
  },
  {
   "cell_type": "markdown",
   "metadata": {},
   "source": [
    "## La mise à l'épreuve "
   ]
  },
  {
   "cell_type": "markdown",
   "metadata": {},
   "source": [
    "On veut maintenant voir notre agent en action avec la Policy optimale. Quelle fonction utilisera-t-on pour sélectionner chaque action?"
   ]
  },
  {
   "cell_type": "code",
   "execution_count": 13,
   "metadata": {},
   "outputs": [
    {
     "name": "stdout",
     "output_type": "stream",
     "text": [
      "\u001b[33mWARN: gym.spaces.Box autodetected dtype as <class 'numpy.float32'>. Please provide explicit dtype.\u001b[0m\n"
     ]
    }
   ],
   "source": [
    "env = gym.make('MountainCar-v0')\n",
    "state = obs_to_state(env.reset())\n",
    "done = False\n",
    "while done is False:\n",
    "    env.render()\n",
    "    action = greedy_policy(state)\n",
    "    obs, reward, done, _ = env.step(action)\n",
    "    state = obs_to_state(obs)\n",
    "env.close()"
   ]
  },
  {
   "cell_type": "markdown",
   "metadata": {},
   "source": [
    "## Évolution de l'entraînement"
   ]
  },
  {
   "cell_type": "markdown",
   "metadata": {},
   "source": [
    "Un petit graphique pour voir l'évolution du Return moyen de chaque tranche de 100 épisodes"
   ]
  },
  {
   "cell_type": "code",
   "execution_count": 14,
   "metadata": {},
   "outputs": [
    {
     "data": {
      "image/png": "[encoded data removed]",
      "text/plain": [
       "<Figure size 432x288 with 1 Axes>"
      ]
     },
     "metadata": {},
     "output_type": "display_data"
    }
   ],
   "source": [
    "import matplotlib.pyplot as plt\n",
    "%matplotlib inline\n",
    "plt.plot(100*(np.arange(len(avg_reward_list)) + 1), avg_reward_list)\n",
    "plt.xlabel('Episodes')\n",
    "plt.ylabel('Average Reward')\n",
    "plt.title('Average Reward vs Episodes')\n",
    "plt.show()"
   ]
  }
 ],
 "metadata": {
  "kernelspec": {
   "display_name": "Python 3",
   "language": "python",
   "name": "python3"
  },
  "language_info": {
   "codemirror_mode": {
    "name": "ipython",
    "version": 3
   },
   "file_extension": ".py",
   "mimetype": "text/x-python",
   "name": "python",
   "nbconvert_exporter": "python",
   "pygments_lexer": "ipython3",
   "version": "3.6.5"
  }
 },
 "nbformat": 4,
 "nbformat_minor": 2
}
